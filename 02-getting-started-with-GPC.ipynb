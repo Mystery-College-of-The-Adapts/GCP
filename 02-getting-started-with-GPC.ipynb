{
 "cells": [
  {
   "cell_type": "markdown",
   "metadata": {
    "toc": "true"
   },
   "source": [
    " # Table of Contents\n",
    "<div class=\"toc\" style=\"margin-top: 1em;\"><ul class=\"toc-item\" id=\"toc-level0\"><li><span><a href=\"http://localhost:8888/notebooks/02-getting-started-with-GPC.ipynb#A-brief-overview-of-the-Google-Cloud-Platform-products\" data-toc-modified-id=\"A-brief-overview-of-the-Google-Cloud-Platform-products-1\"><span class=\"toc-item-num\">1&nbsp;&nbsp;</span>A brief overview of the Google Cloud Platform products</a></span><ul class=\"toc-item\"><li><span><a href=\"http://localhost:8888/notebooks/02-getting-started-with-GPC.ipynb#Compute\" data-toc-modified-id=\"Compute-1.1\"><span class=\"toc-item-num\">1.1&nbsp;&nbsp;</span>Compute</a></span></li><li><span><a href=\"http://localhost:8888/notebooks/02-getting-started-with-GPC.ipynb#Storage\" data-toc-modified-id=\"Storage-1.2\"><span class=\"toc-item-num\">1.2&nbsp;&nbsp;</span>Storage</a></span></li><li><span><a href=\"http://localhost:8888/notebooks/02-getting-started-with-GPC.ipynb#Big-Data\" data-toc-modified-id=\"Big-Data-1.3\"><span class=\"toc-item-num\">1.3&nbsp;&nbsp;</span>Big Data</a></span></li><li><span><a href=\"http://localhost:8888/notebooks/02-getting-started-with-GPC.ipynb#Services\" data-toc-modified-id=\"Services-1.4\"><span class=\"toc-item-num\">1.4&nbsp;&nbsp;</span>Services</a></span></li><li><span><a href=\"http://localhost:8888/notebooks/02-getting-started-with-GPC.ipynb#Networking\" data-toc-modified-id=\"Networking-1.5\"><span class=\"toc-item-num\">1.5&nbsp;&nbsp;</span>Networking</a></span></li></ul></li></ul></div>"
   ]
  },
  {
   "cell_type": "markdown",
   "metadata": {},
   "source": [
    "#  A brief overview of the Google Cloud Platform products\n",
    "\n",
    "This section describes the various Cloud Platform technologies. We hope this overview on your journey into Cloud Platform:"
   ]
  },
  {
   "cell_type": "markdown",
   "metadata": {},
   "source": [
    "## Compute\n",
    "   - Compute Engine: \n",
    "        - Compute Engine is an infrastructure as a-service (IaaS) product. \n",
    "        - Using it, you can launch virtual machines, create networks, and attach local and remote persistent disks based on magnetic or solid state technologies. \n",
    "        - You can also design and build advanced architectures that include load-balancing and auto-scaling and that span multiple zones in a region or multiple geographical regions worldwide. \n",
    "        - Compute Engine gives you maximum flexibility and is primarily targeted at architects and system administrators.\n",
    "      \n",
    "      \n",
    "   - App Engine: \n",
    "        - App Engine is a platform as a service (PaaS) product. \n",
    "        - Using it, you can build web-scale, autoscaling applications. \n",
    "        - App Engine is targeted at software developers and provides a comprehensive collection of libraries. \n",
    "        - Using it, you can simply upload an application to the platform, and App Engine takes care of everything else.\n",
    "\n",
    "\n",
    "- Container Engine: \n",
    "    - Containerized applications are being explored as the next step in DevOps standard operating procedures and the next generation of application development. \n",
    "    - Docker is at the forefront of this revolution and is building an industry-wide consensus about the format and interface of application containers. \n",
    "    - An application container is enabled by a set of core innovations in the Linux kernel that Google invented almost a decade ago. \n",
    "    - This places Google at the forefront of driving container adoption among developers.\n",
    "    \n",
    "- Managed VMs: \n",
    "    - Managed virtual machines are the next generation of App Engine and feature many new capabilities such as Docker formatted application containers, writable local disks, and live debugging of applications over SSH. \n",
    "    - Whereas Container Engine enables you to build sophisticated multi-tier applications where each node is a Docker container, managed VMs take care of all of them. \n",
    "    - In essence, Container Engine is an unmanaged platform for Docker-based applications, and a managed VM is a managed platform for Docker-based applications. "
   ]
  },
  {
   "cell_type": "markdown",
   "metadata": {},
   "source": [
    "## Storage"
   ]
  },
  {
   "cell_type": "markdown",
   "metadata": {},
   "source": [
    "- Cloud SQL: \n",
    "    - Cloud SQL is a managed RDBMS product and is 100% binary compatible with open source MySQL server software. \n",
    "    - Google manages all the database-management tasks, and you can focus on building an app that needs a SQL back end. \n",
    "    - Cloud SQL supports advanced configurations such as read replicas (internal and external) and SSL connections.\n",
    "    \n",
    "    \n",
    "- Cloud storage: \n",
    "    - Cloud storage is object-based file storage that you can use to store data files without worrying about file system setup and maintenance.\n",
    "    - Cloud storage also includes automatic transparent global edge caching so that you don’t have to set up another entity manually. \n",
    "    - Cloud storage offers different product flavors based on durability characteristics.\n",
    "    \n",
    "    \n",
    "- Cloud Datastore: \n",
    "    - Cloud Datastore is a managed, NoSQL, schemaless   storing non-relational data. \n",
    "    - You can use this service to store key:value-based data.\n",
    "    - Cloud Datastore scales as your data needs increase, and you pay only for space that you consume.\n"
   ]
  },
  {
   "cell_type": "markdown",
   "metadata": {},
   "source": [
    "## Big Data"
   ]
  },
  {
   "cell_type": "markdown",
   "metadata": {},
   "source": [
    "- BigQuery: \n",
    "    - BigQuery is a hosted Big Data analytics platform. \n",
    "    - BigQuery lets you query datasets that are multiple terabytes in size and features data ingestion at the rate of 100,000 rows per second per table.\n",
    "\t\n",
    "    \n",
    "- Cloud Pub/Sub: \n",
    "    - Cloud Pub/Sub is a hosted messaging and queuing product that lets you connect multiple producers and consumers and enable low-latency, high-frequency data transfer between them.\n",
    "    \n",
    "    \n",
    "- Cloud Dataflow: \n",
    "    - Cloud Dataflow is a simple, flexible, powerful system you can use to perform data-processing tasks of any size. \n",
    "    - It lets you build, deploy, and run complex data-processing pipelines.\n"
   ]
  },
  {
   "cell_type": "markdown",
   "metadata": {},
   "source": [
    "## Services"
   ]
  },
  {
   "cell_type": "markdown",
   "metadata": {},
   "source": [
    "- Cloud Endpoints: \n",
    "    - Cloud Endpoints enables you to create RESTful services and make them accessible to iOS, Android, and JavaScript clients. \n",
    "    - It also automatically generates client libraries to make wiring up the front end easy.\n",
    "    - With built-in features include denial-of-service protection, OAuth 2.0 support, and client key management, Cloud Endpoints lets you host API endpoints in Cloud Platform.\n",
    "    \n",
    "    \n",
    "- Google APIs: \n",
    "    - Applications can consume both Cloud Platform product APIs (for example Google Storage) and Google products APIs (for example Google Maps)."
   ]
  },
  {
   "cell_type": "markdown",
   "metadata": {},
   "source": [
    "## Networking"
   ]
  },
  {
   "cell_type": "markdown",
   "metadata": {},
   "source": [
    "- Cloud DNS: \n",
    "    - Cloud DNS is a reliable, resilient, low-latency DNS service from Google’s worldwide network of Anycast DNS servers.\n",
    "    - You can manage your DNS records using the Developers Console UI, the gcloud command-line tool, or a full-featured RESTful API.\n",
    "\n",
    "\n",
    "- Authentication: \n",
    "    - Authentication is an essential step for governing access to your Cloud Platform resources or Google user data. \n",
    "    - Google uses the OAUTH 2.0 protocol exclusively for both authentication and authorization. \n",
    "    \n",
    "    \n",
    "- Developer Toolbox: \n",
    "    - Cloud Platform provides several tools to assist you in building, deploying, and maintaining awesome applications. \n"
   ]
  }
 ],
 "metadata": {
  "kernelspec": {
   "display_name": "Python 3",
   "language": "python",
   "name": "python3"
  },
  "language_info": {
   "codemirror_mode": {
    "name": "ipython",
    "version": 3
   },
   "file_extension": ".py",
   "mimetype": "text/x-python",
   "name": "python",
   "nbconvert_exporter": "python",
   "pygments_lexer": "ipython3",
   "version": "3.6.2"
  },
  "toc": {
   "nav_menu": {},
   "number_sections": true,
   "sideBar": true,
   "skip_h1_title": false,
   "toc_cell": true,
   "toc_position": {},
   "toc_section_display": "block",
   "toc_window_display": true
  }
 },
 "nbformat": 4,
 "nbformat_minor": 2
}
