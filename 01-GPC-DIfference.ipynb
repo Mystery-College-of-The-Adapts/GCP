{
 "cells": [
  {
   "cell_type": "markdown",
   "metadata": {
    "toc": "true"
   },
   "source": [
    " # Table of Contents\n",
    "<div class=\"toc\" style=\"margin-top: 1em;\"><ul class=\"toc-item\" id=\"toc-level0\"><li><span><a href=\"http://localhost:8888/notebooks/01-GPC-DIfference.ipynb#What-is-Cloud-Computing?\" data-toc-modified-id=\"What-is-Cloud-Computing?-1\"><span class=\"toc-item-num\">1&nbsp;&nbsp;</span>What is Cloud Computing?</a></span><ul class=\"toc-item\"><li><span><a href=\"http://localhost:8888/notebooks/01-GPC-DIfference.ipynb#What-is-Virtualization?\" data-toc-modified-id=\"What-is-Virtualization?-1.1\"><span class=\"toc-item-num\">1.1&nbsp;&nbsp;</span>What is Virtualization?</a></span></li><li><span><a href=\"http://localhost:8888/notebooks/01-GPC-DIfference.ipynb#Technical-Benefits-of-Using-a-Public-Cloud\" data-toc-modified-id=\"Technical-Benefits-of-Using-a-Public-Cloud-1.2\"><span class=\"toc-item-num\">1.2&nbsp;&nbsp;</span>Technical Benefits of Using a Public Cloud</a></span><ul class=\"toc-item\"><li><span><a href=\"http://localhost:8888/notebooks/01-GPC-DIfference.ipynb#Uptime\" data-toc-modified-id=\"Uptime-1.2.1\"><span class=\"toc-item-num\">1.2.1&nbsp;&nbsp;</span>Uptime</a></span></li><li><span><a href=\"http://localhost:8888/notebooks/01-GPC-DIfference.ipynb#Resource-utilization\" data-toc-modified-id=\"Resource-utilization-1.2.2\"><span class=\"toc-item-num\">1.2.2&nbsp;&nbsp;</span>Resource utilization</a></span></li><li><span><a href=\"http://localhost:8888/notebooks/01-GPC-DIfference.ipynb#Expertise\" data-toc-modified-id=\"Expertise-1.2.3\"><span class=\"toc-item-num\">1.2.3&nbsp;&nbsp;</span>Expertise</a></span></li></ul></li></ul></li><li><span><a href=\"http://localhost:8888/notebooks/01-GPC-DIfference.ipynb#A-Quick-Comparison-to-AWS\" data-toc-modified-id=\"A-Quick-Comparison-to-AWS-2\"><span class=\"toc-item-num\">2&nbsp;&nbsp;</span>A Quick Comparison to AWS</a></span></li></ul></div>"
   ]
  },
  {
   "cell_type": "markdown",
   "metadata": {},
   "source": [
    "# What is Cloud Computing?"
   ]
  },
  {
   "cell_type": "markdown",
   "metadata": {},
   "source": [
    "Cloud computing is about abstracting the computing infrastructure and other associated resources and offering them as service, usually on a pay-per-use basis, over the internet.\n",
    "\n",
    "- Users just need a web browser to access services\n",
    "- Software systems can consume services using a web application programming interface (API)\n",
    "\n",
    "**This abstraction is realized through a technical process called virtualization.**"
   ]
  },
  {
   "cell_type": "markdown",
   "metadata": {},
   "source": [
    "## What is Virtualization?"
   ]
  },
  {
   "cell_type": "markdown",
   "metadata": {},
   "source": [
    "**Virtualization** is a process through which a hardware resource ( such as a server or network) is cloned as in-memory resource and is used as the **virtual** foundation to support a software stack."
   ]
  },
  {
   "cell_type": "markdown",
   "metadata": {},
   "source": [
    "## Technical Benefits of Using a Public Cloud"
   ]
  },
  {
   "cell_type": "markdown",
   "metadata": {},
   "source": [
    "### Uptime\n",
    "- Most public cloud providers have redundacy built in as part of their system design. As a result, providers typically can offer uptime of **$99.9 \\%$** or more. This translates to expected downtime of just **8.76** hours per year (~1/3 day)."
   ]
  },
  {
   "cell_type": "markdown",
   "metadata": {},
   "source": [
    "### Resource utilization\n",
    "- Public cloud service providers have wide visibility on resource usage patterns across their customers and typically cluster them based on industry. Due to this, a public cloud service provider can reassign resources released by one customer to another customer, thereby keeping resource utilization high.\n"
   ]
  },
  {
   "cell_type": "markdown",
   "metadata": {},
   "source": [
    "### Expertise\n",
    "- Public cloud service providers have experienced system and network administrators along with 24x7 hardware maintainance personnel on site."
   ]
  },
  {
   "cell_type": "markdown",
   "metadata": {},
   "source": [
    "# A Quick Comparison to AWS\n",
    "This section highlights a few select features of Google Cloud Platform and how they compare with the\n",
    "incumbent public cloud provider, Amazon Web Services:\n",
    "\n",
    "- Google Compute Engine, the Internet-as-a-service (IaaS) product from Google Cloud Platform, adopts a per-minute charging model except for the initial minimum 10-minute tier. On the other hand, AWS charges on an hourly-basis.\t\n",
    "    - Let’s consider two example use cases. First, if you use an instance for 11 minutes, you pay for 11 minutes in Google Cloud Platform, but you pay for 60 minutes with Amazon Web Services. Second, if you use an instance for 1 minute, you pay for 10 minutes in Google Cloud Platform or 60 minutes in Amazon Web Services. In either case, you can see that Google Cloud Platform is cheaper than Amazon Web Services.\n",
    "\n",
    "- Google Compute Engine is better suited to handle traffic spikes. This is because the Compute Engine load balancers don’t require pre-warming, unlike AWS load balancers. In addition, pre-warming AWS load balancer requires customers to subscribe to AWS support. Compute Engine load balancers are able to scale instantly when they notice a sudden traffic spike.\n",
    "    - In 2013, Google demonstrated that its load balancers could serve 1 million requests per second on a sustained basis and within 5 seconds after setup. You are advised to read the full article at http://googlecloudplatform.blogspot.in/2013/11/compute-engine-load-balancing-hits-1-million-requests-per-second.html.\n",
    "    \n",
    "- Compute Engine’s persistent disks (PDs) support a larger disk size (currently 10TB) compared with AWS. In addition, Google includes the I/O costs in the cost of the PD, thereby giving customers predictable costing. In the case of AWS, the cost of I/O is separate from the cost of the raw disk space. Moreover, other nice features include the ability to mount a PD to multiple VMs as read-only or a single VM in read-write mode.\n",
    "\n",
    "- Compute instances are hosted as virtual machines in IaaS. Periodically, the IaaS service provider needs to do maintenance (host OS or hardware) on the platform. The hardware may also fail occasionally. In such cases, it is desirable to have the VM automatically migrate to another physical host. Compute Engine can do live migration.\n",
    "\n",
    "- Google App Engine, the platform-as-a-service (PaaS) product from Google Cloud Platform, is in our view a pure PaaS product when compared with Beanstalk from Amazon Web Services. This is because Beanstalk is a management layer built on top of AWS EC2. The implication of this design choice is that Beanstalk needs to have at least one EC2 instance up all the time, which adds to hosting costs. App Engine, on the other hand, charges only when there is traffic and includes a monthly free tier.\n",
    "\n",
    "- BigQuery, the big-data analytics product from Google Cloud Platform, is an integrated and fully hosted platform that scales to thousands of nodes and charges only for space and computation time. In comparison, the AWS equivalent (Red Shift) requires users to configure the system and also charges by the hour rather than based on usage.\n",
    "\n",
    "- Google data centers (that host Google Cloud Platform’s regions and zones) are spread globally and interconnected by Google’s private fiber network. This means network traffic between two cloud platform zones passes through a private network and not over the public Internet. As of today, AWS does not have such a private network.\n"
   ]
  }
 ],
 "metadata": {
  "kernelspec": {
   "display_name": "Python 3",
   "language": "python",
   "name": "python3"
  },
  "language_info": {
   "codemirror_mode": {
    "name": "ipython",
    "version": 3
   },
   "file_extension": ".py",
   "mimetype": "text/x-python",
   "name": "python",
   "nbconvert_exporter": "python",
   "pygments_lexer": "ipython3",
   "version": "3.6.2"
  },
  "toc": {
   "nav_menu": {},
   "number_sections": true,
   "sideBar": true,
   "skip_h1_title": false,
   "toc_cell": true,
   "toc_position": {},
   "toc_section_display": "block",
   "toc_window_display": true
  }
 },
 "nbformat": 4,
 "nbformat_minor": 2
}
